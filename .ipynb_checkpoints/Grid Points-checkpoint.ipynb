{
 "cells": [
  {
   "cell_type": "code",
   "execution_count": 1,
   "id": "f53a5fc6",
   "metadata": {},
   "outputs": [],
   "source": [
    "from PIL import Image, ImageDraw\n",
    "\n",
    "image_width = 1920\n",
    "image_height = 1080\n",
    "grid_rows = 4\n",
    "grid_cols = 5\n",
    "\n",
    "cell_width = image_width // grid_cols\n",
    "cell_height = image_height // grid_rows\n",
    "\n",
    "point_radius = 10  # Adjust this value to increase/decrease point size\n",
    "\n",
    "image = Image.new(\"RGB\", (image_width, image_height), \"black\")\n",
    "draw = ImageDraw.Draw(image)\n",
    "\n",
    "for row in range(grid_rows):\n",
    "    for col in range(grid_cols):\n",
    "        x = col * cell_width + cell_width // 2\n",
    "        y = row * cell_height + cell_height // 2\n",
    "        \n",
    "        draw.ellipse((x - point_radius, y - point_radius, x + point_radius, y + point_radius), fill=\"white\")\n",
    "\n",
    "image.save(\"grid_points.jpg\")\n"
   ]
  },
  {
   "cell_type": "code",
   "execution_count": null,
   "id": "c2895ad9",
   "metadata": {},
   "outputs": [],
   "source": []
  }
 ],
 "metadata": {
  "kernelspec": {
   "display_name": "Python 3 (ipykernel)",
   "language": "python",
   "name": "python3"
  },
  "language_info": {
   "codemirror_mode": {
    "name": "ipython",
    "version": 3
   },
   "file_extension": ".py",
   "mimetype": "text/x-python",
   "name": "python",
   "nbconvert_exporter": "python",
   "pygments_lexer": "ipython3",
   "version": "3.9.7"
  }
 },
 "nbformat": 4,
 "nbformat_minor": 5
}
